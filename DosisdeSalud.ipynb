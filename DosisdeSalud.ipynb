{
  "nbformat": 4,
  "nbformat_minor": 0,
  "metadata": {
    "colab": {
      "provenance": [],
      "authorship_tag": "ABX9TyP0TdNtKT/GfNlQbWgAfy2D",
      "include_colab_link": true
    },
    "kernelspec": {
      "name": "python3",
      "display_name": "Python 3"
    },
    "language_info": {
      "name": "python"
    }
  },
  "cells": [
    {
      "cell_type": "markdown",
      "metadata": {
        "id": "view-in-github",
        "colab_type": "text"
      },
      "source": [
        "<a href=\"https://colab.research.google.com/github/yorrom/ProyectoDosisdeSalud/blob/main/DosisdeSalud.ipynb\" target=\"_parent\"><img src=\"https://colab.research.google.com/assets/colab-badge.svg\" alt=\"Open In Colab\"/></a>"
      ]
    },
    {
      "cell_type": "markdown",
      "source": [
        "#** Nuestra Filosofía: **\n",
        "\n",
        "> **En Dosis de Salud**, creemos que tu bienestar es el resultado de las decisiones que tomas todos los dias.\n",
        "\n",
        "Aquí te guiamos con estrategias basadas en la ciencia y un acompañamiento que entiende tus desafíos , para que logres una recomposición corporal y movilidad funcional duraderas. Juntos, transformaremos tu salud para una vida más activa y sin dolor."
      ],
      "metadata": {
        "id": "TuvoR6MVIQVO"
      }
    },
    {
      "cell_type": "markdown",
      "source": [
        "![Dosis De Salud](https://i.postimg.cc/QMRzfrDH/Logo-para-Redes-Sociales-8.png)"
      ],
      "metadata": {
        "id": "1DWrFHy9liMc"
      }
    }
  ]
}