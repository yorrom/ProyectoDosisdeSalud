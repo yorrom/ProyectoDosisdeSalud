{
  "nbformat": 4,
  "nbformat_minor": 0,
  "metadata": {
    "colab": {
      "provenance": [],
      "authorship_tag": "ABX9TyNgR2tp8OaRGotX2v62iUaq"
    },
    "kernelspec": {
      "name": "python3",
      "display_name": "Python 3"
    },
    "language_info": {
      "name": "python"
    }
  },
  "cells": [
    {
      "cell_type": "markdown",
      "source": [
        "#** Nuestra Filosofía: **\n",
        "\n",
        "> **En Dosis de Salud**, creemos que tu bienestar es el resultado de las decisiones que tomas todos los dias.\n",
        "\n",
        "Aquí te guiamos con estrategias basadas en la ciencia y un acompañamiento que entiende tus desafíos , para que logres una recomposición corporal y movilidad funcional duraderas. Juntos, transformaremos tu salud para una vida más activa y sin dolor."
      ],
      "metadata": {
        "id": "TuvoR6MVIQVO"
      }
    },
    {
      "cell_type": "markdown",
      "source": [
        "![Dosis De Salud](https://i.postimg.cc/QMRzfrDH/Logo-para-Redes-Sociales-8.png)"
      ],
      "metadata": {
        "id": "1DWrFHy9liMc"
      }
    },
    {
      "cell_type": "markdown",
      "source": [
        "> # **Dr. Miguel Romero**\n",
        "> # Es un médico apasionado por transformar la salud más allá de la consulta tradicional. Su misión es empoderar a las personas para que vivan con más energía, claridad y autonomía, construyendo su bienestar de forma proactiva antes de que una enfermedad les obligue a actuar.\n",
        "\n",
        "\n",
        "### A través de su ecosistema «Dosis de Salud», el Dr. Romero desmitifica el complejo proceso de perder grasa, ganar músculo y moverse sin dolor. Su enfoque único integra dos pilares fundamentales: la recomposición corporal y la movilidad funcional, reconociendo que un cuerpo fuerte y ágil es la base para una longevidad activa y una salud cardiometabólica óptima.\n",
        "\n",
        "\n",
        "Como tu «médico de confianza digital» , combina el rigor científico con un tono cercano, empático y motivador , traduciendo la ciencia en decisiones simples y hábitos sostenibles que generan un impacto real y duradero."
      ],
      "metadata": {
        "id": "7AuNQE77trvp"
      }
    }
  ]
}